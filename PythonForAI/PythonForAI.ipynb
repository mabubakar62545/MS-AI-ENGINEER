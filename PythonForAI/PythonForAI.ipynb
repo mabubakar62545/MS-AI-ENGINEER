{
 "cells": [
  {
   "cell_type": "markdown",
   "id": "de3d5dff-0014-4a15-9590-bf50a7498346",
   "metadata": {},
   "source": [
    "# Module 1: Introduction to Python Programming\n",
    "\n",
    "### Theory Concepts:\n",
    "\n",
    "#### Python installation and environment setup\n",
    "#### Python interpreter and IDEs\n",
    "#### Basic syntax and indentation\n",
    "#### Comments and documentation"
   ]
  },
  {
   "cell_type": "markdown",
   "id": "7d5609ca-5da6-4934-bc01-ec37b91c77bf",
   "metadata": {
    "jp-MarkdownHeadingCollapsed": true
   },
   "source": [
    "# Create your first Python file"
   ]
  },
  {
   "cell_type": "code",
   "execution_count": 1,
   "id": "ea1280cd-9269-46a7-96c9-bedd1978ee03",
   "metadata": {},
   "outputs": [
    {
     "name": "stdout",
     "output_type": "stream",
     "text": [
      "Hello, AI World!\n",
      "Python version check:\n",
      "3.13.3 (v3.13.3:6280bb54784, Apr  8 2025, 10:47:54) [Clang 15.0.0 (clang-1500.3.9.4)]\n"
     ]
    }
   ],
   "source": [
    "print(\"Hello, AI World!\")\n",
    "print(\"Python version check:\")\n",
    "import sys\n",
    "print(sys.version)"
   ]
  },
  {
   "cell_type": "markdown",
   "id": "82cbfaef-9227-41c8-ba11-7c4838a7aa8f",
   "metadata": {
    "jp-MarkdownHeadingCollapsed": true
   },
   "source": [
    "# Practice: Create a simple calculator"
   ]
  },
  {
   "cell_type": "code",
   "execution_count": 3,
   "id": "6492c42a-68b9-4cb2-8acd-ea23406edfb0",
   "metadata": {},
   "outputs": [
    {
     "name": "stdin",
     "output_type": "stream",
     "text": [
      "Enter first number:  10\n",
      "Enter second number:  0\n",
      "Choose operation (+, -, *, /):  /\n"
     ]
    },
    {
     "name": "stdout",
     "output_type": "stream",
     "text": [
      "Result: Cannot divide by zero\n"
     ]
    }
   ],
   "source": [
    "num1 = float(input(\"Enter first number: \"))\n",
    "num2 = float(input(\"Enter second number: \"))\n",
    "operation = input(\"Choose operation (+, -, *, /): \")\n",
    "\n",
    "if operation == '+':\n",
    "    result = num1 + num2\n",
    "elif operation == '-':\n",
    "    result = num1 - num2\n",
    "elif operation == '*':\n",
    "    result = num1 * num2\n",
    "elif operation == '/':\n",
    "    result = num1 / num2 if num2 != 0 else \"Cannot divide by zero\"\n",
    "\n",
    "print(f\"Result: {result}\") \n"
   ]
  },
  {
   "cell_type": "markdown",
   "id": "e12dcfaa-85c6-4150-bd15-fce93b2069d2",
   "metadata": {},
   "source": [
    "### Key Points\n",
    "#### print(f\"Result: {result}\") creates an f-string (formatted string literal), which is a way to embed variables directly inside strings.\n",
    "#### result = num1 / num2 if num2 != 0 else \"Cannot divide by zero\""
   ]
  },
  {
   "cell_type": "markdown",
   "id": "9b47f930-ffb0-424f-9e4a-91e01af7a846",
   "metadata": {},
   "source": [
    "# Project 1: AI Quote Generator"
   ]
  },
  {
   "cell_type": "code",
   "execution_count": 6,
   "id": "749f2407-02d3-435b-8425-f37b4de0ee08",
   "metadata": {},
   "outputs": [
    {
     "name": "stdout",
     "output_type": "stream",
     "text": [
      "AI Quote of the Day:\n",
      "The question of whether a computer can think is no more interesting than the question of whether a submarine can swim. - Edsger Dijkstra\n"
     ]
    }
   ],
   "source": [
    "import random\n",
    "\n",
    "ai_quotes = [\n",
    "    \"The question of whether a computer can think is no more interesting than the question of whether a submarine can swim. - Edsger Dijkstra\",\n",
    "    \"AI is likely to be either the best or worst thing to happen to humanity. - Stephen Hawking\",\n",
    "    \"Machine intelligence is the last invention that humanity will ever need to make. - Nick Bostrom\"\n",
    "]\n",
    "\n",
    "def generate_quote():\n",
    "    return random.choice(ai_quotes)\n",
    "\n",
    "print(\"AI Quote of the Day:\")\n",
    "print(generate_quote())"
   ]
  },
  {
   "cell_type": "markdown",
   "id": "848bf61b-e2e6-40cf-8c1b-9d839e49e577",
   "metadata": {},
   "source": [
    "# Module 2: Python Data Types and Operators\n",
    "\n",
    "### Theory Concepts:\n",
    "\n",
    "#### Numbers (int, float, complex)\n",
    "#### Strings and string methods\n",
    "#### Lists, tuples, sets, dictionaries\n",
    "#### Type conversion and checking"
   ]
  },
  {
   "cell_type": "markdown",
   "id": "eadbbc65-9107-4470-9bbc-6eca2c3a3f63",
   "metadata": {},
   "source": [
    "### Exercise 2.1: Data Types for AI"
   ]
  },
  {
   "cell_type": "code",
   "execution_count": 9,
   "id": "ba2e7008-3f09-4438-ab89-517694921fae",
   "metadata": {},
   "outputs": [
    {
     "name": "stdout",
     "output_type": "stream",
     "text": [
      "Average temperature: 24.48\n",
      "Word count: 5\n",
      "Model: Linear Regression, Accuracy: 0.95\n"
     ]
    }
   ],
   "source": [
    "# Numerical data (features in ML)\n",
    "temperature_readings = [23.5, 25.1, 22.8, 26.3, 24.7]\n",
    "print(f\"Average temperature: {sum(temperature_readings) / len(temperature_readings)}\")\n",
    "\n",
    "# String data (text processing)\n",
    "text_data = \"Natural Language Processing is fascinating\"\n",
    "words = text_data.lower().split()\n",
    "word_count = len(words)\n",
    "print(f\"Word count: {word_count}\")\n",
    "\n",
    "# Dictionary for structured data\n",
    "ml_model = {\n",
    "    \"name\": \"Linear Regression\",\n",
    "    \"accuracy\": 0.95,\n",
    "    \"features\": [\"age\", \"income\", \"education\"],\n",
    "    \"trained\": True\n",
    "}\n",
    "\n",
    "print(f\"Model: {ml_model['name']}, Accuracy: {ml_model['accuracy']}\")"
   ]
  },
  {
   "cell_type": "markdown",
   "id": "f4db8be0-2a5e-406a-b21e-521134946608",
   "metadata": {},
   "source": [
    "## Exercise 2.2: Data Manipulation"
   ]
  },
  {
   "cell_type": "code",
   "execution_count": 12,
   "id": "965e6db8-a461-43c4-8161-206a0641be85",
   "metadata": {},
   "outputs": [
    {
     "name": "stdout",
     "output_type": "stream",
     "text": [
      "Student Name: Alice\n",
      "Student Grades Avg: 87.75\n",
      "Student Name: Bob\n",
      "Student Grades Avg: 83.5\n",
      "Student Name: Charlie\n",
      "Student Grades Avg: 92.5\n",
      "Data points: [('Alice', 87.75), ('Bob', 83.5), ('Charlie', 92.5)]\n"
     ]
    }
   ],
   "source": [
    "# Simulating a simple dataset\n",
    "student_grades = {\n",
    "    \"Alice\": [85, 92, 78, 96],\n",
    "    \"Bob\": [79, 85, 82, 88],\n",
    "    \"Charlie\": [92, 95, 89, 94]\n",
    "}\n",
    "\n",
    "# Calculate averages (like feature engineering)\n",
    "for student, grades in student_grades.items():\n",
    "    avg = sum(grades)/len(grades)\n",
    "    print(f\"Student Name: {student}\")\n",
    "    print(f\"Student Grades Avg: {avg}\")\n",
    "    \n",
    "# Convert to list of tuples (common data format)\n",
    "data_points = [(name, sum(grades)/len(grades)) for name, grades in student_grades.items()]\n",
    "print(\"Data points:\", data_points)"
   ]
  },
  {
   "cell_type": "markdown",
   "id": "2ee0e769-8e90-48d9-83e3-429793210de8",
   "metadata": {},
   "source": [
    "### Key Note\n",
    "#### Convert to list of tuples\n",
    "#### data_points = [(name, sum(grades)/len(grades)) for name, grades in student_grades.items()]"
   ]
  },
  {
   "cell_type": "markdown",
   "id": "9b787758-4ecb-48df-aa4b-1093a5386039",
   "metadata": {},
   "source": [
    "### Project 2: Simple Data Analyzer"
   ]
  },
  {
   "cell_type": "code",
   "execution_count": 14,
   "id": "849f0f11-de06-445a-839e-5b9667d61cfc",
   "metadata": {},
   "outputs": [
    {
     "name": "stdout",
     "output_type": "stream",
     "text": [
      "Count: 10.00\n",
      "Sum: 32.70\n",
      "Mean: 3.27\n",
      "Min: 1.20\n",
      "Max: 5.60\n",
      "Range: 4.40\n"
     ]
    }
   ],
   "source": [
    "def analyze_dataset(data):\n",
    "    \"\"\"Analyze a list of numbers - common in AI preprocessing\"\"\"\n",
    "    if not data:\n",
    "        return \"No data provided\"\n",
    "    \n",
    "    stats = {\n",
    "        \"count\": len(data),\n",
    "        \"sum\": sum(data),\n",
    "        \"mean\": sum(data) / len(data),\n",
    "        \"min\": min(data),\n",
    "        \"max\": max(data),\n",
    "        \"range\": max(data) - min(data)\n",
    "    }\n",
    "    \n",
    "    return stats\n",
    "\n",
    "# Test with sample data\n",
    "sample_data = [1.2, 3.4, 2.1, 5.6, 4.3, 2.8, 3.9, 1.7, 4.5, 3.2]\n",
    "results = analyze_dataset(sample_data)\n",
    "\n",
    "for key, value in results.items():\n",
    "    print(f\"{key.capitalize()}: {value:.2f}\")"
   ]
  },
  {
   "cell_type": "markdown",
   "id": "d86738d6-0a4c-4e9b-8d6e-5f3bd7fa1aae",
   "metadata": {},
   "source": [
    "#### In Python, not data evaluates to True when data is considered \"falsy\". Here are the values that are considered falsy:\n",
    "\n",
    "##### None\n",
    "##### Empty string: \"\"\n",
    "##### Empty list: []\n",
    "##### Empty dictionary: {}\n",
    "##### Empty tuple: ()\n",
    "##### Zero: 0 or 0.0\n",
    "##### Boolean False"
   ]
  },
  {
   "cell_type": "markdown",
   "id": "2df1f9f0-0bf9-43be-b154-b714d7e3033b",
   "metadata": {},
   "source": [
    "#  Module 3: Conditional Statements and Loops\n",
    "\n",
    "### Theory Concepts:\n",
    "\n",
    "#### if, elif, else statements\n",
    "#### for and while loops\n",
    "#### Loop control (break, continue)\n",
    "#### Nested loops and conditions"
   ]
  },
  {
   "cell_type": "markdown",
   "id": "cfd05e4f-e29f-4020-8ab5-e2577a0571e7",
   "metadata": {},
   "source": [
    "### Exercise 3.1: Decision Trees (AI Logic)\n"
   ]
  },
  {
   "cell_type": "code",
   "execution_count": 17,
   "id": "430e9f9a-0bb9-45f8-b739-f1d6b1fa8c9b",
   "metadata": {},
   "outputs": [
    {
     "name": "stdout",
     "output_type": "stream",
     "text": [
      "Temperature -5°C: Freezing\n",
      "Temperature 10°C: Cold\n",
      "Temperature 20°C: Moderate\n",
      "Temperature 30°C: Warm\n",
      "Temperature 40°C: Hot\n"
     ]
    }
   ],
   "source": [
    "def classify_temperature(temp):\n",
    "    \"\"\"Simple decision tree for temperature classification\"\"\"\n",
    "    if temp < 0:\n",
    "        return \"Freezing\"\n",
    "    elif temp < 15:\n",
    "        return \"Cold\"\n",
    "    elif temp < 25:\n",
    "        return \"Moderate\"\n",
    "    elif temp < 35:\n",
    "        return \"Warm\"\n",
    "    else:\n",
    "        return \"Hot\"\n",
    "\n",
    "# Test the classifier\n",
    "temperatures = [-5, 10, 20, 30, 40]\n",
    "for temp in temperatures:\n",
    "    print(f\"Temperature {temp}°C: {classify_temperature(temp)}\")"
   ]
  },
  {
   "cell_type": "markdown",
   "id": "b5088457-aef2-4285-a7e3-fc3948d05138",
   "metadata": {},
   "source": [
    "### Exercise 3.2: Pattern Recognition"
   ]
  },
  {
   "cell_type": "code",
   "execution_count": 21,
   "id": "437b9f4c-174e-49cf-ad3e-33bd163a9d7e",
   "metadata": {},
   "outputs": [
    {
     "name": "stdout",
     "output_type": "stream",
     "text": [
      "Pattern Analysis:\n",
      "Pattern (1, 2): appears 3 times\n",
      "Pattern (2, 1): appears 1 times\n",
      "Pattern (2, 3): appears 2 times\n",
      "Pattern (3, 1): appears 2 times\n",
      "Pattern (3, 3): appears 1 times\n",
      "{(1, 2): 3, (2, 1): 1, (2, 3): 2, (3, 1): 2, (3, 3): 1}\n"
     ]
    }
   ],
   "source": [
    "def find_patterns(sequence):\n",
    "    \"\"\"Find repeating patterns in a sequence\"\"\"\n",
    "    patterns = {}\n",
    "\n",
    "    for i in range(len(sequence) - 1):\n",
    "        pair = (sequence[i], sequence[i+1])\n",
    "        if pair in patterns:\n",
    "            patterns[pair] += 1\n",
    "        else:\n",
    "            patterns[pair] = 1\n",
    "    \n",
    "    return patterns\n",
    "\n",
    "# Analyze a sequence\n",
    "data_sequence = [1, 2, 1, 2, 3, 1, 2, 3, 3, 1]\n",
    "patterns = find_patterns(data_sequence)\n",
    "\n",
    "print(\"Pattern Analysis:\")\n",
    "for pattern, count in patterns.items():\n",
    "    print(f\"Pattern {pattern}: appears {count} times\")\n",
    "print(patterns)"
   ]
  },
  {
   "cell_type": "markdown",
   "id": "f6ce8e5d-e7f6-4181-86a3-8033a99df80c",
   "metadata": {},
   "source": [
    "### Project 3: Simple Recommendation System RR"
   ]
  },
  {
   "cell_type": "code",
   "execution_count": 22,
   "id": "af402900-c621-442a-b115-8ab24491cef5",
   "metadata": {},
   "outputs": [
    {
     "name": "stdout",
     "output_type": "stream",
     "text": [
      "Recommended Content:\n",
      "- Machine Learning Basics (Score: 2)\n",
      "- Introduction to AI (Score: 1)\n",
      "- Python for Data Science (Score: 1)\n"
     ]
    }
   ],
   "source": [
    "def recommend_content(user_preferences, available_content):\n",
    "    \"\"\"Basic content recommendation based on preferences\"\"\"\n",
    "    recommendations = []\n",
    "    \n",
    "    for content in available_content:\n",
    "        score = 0\n",
    "        for preference in user_preferences:\n",
    "            if preference.lower() in content[\"tags\"]:\n",
    "                score += 1\n",
    "        \n",
    "        if score > 0:\n",
    "            content_with_score = content.copy()\n",
    "            content_with_score[\"relevance_score\"] = score\n",
    "            recommendations.append(content_with_score)\n",
    "    \n",
    "    # Sort by relevance score\n",
    "    recommendations.sort(key=lambda x: x[\"relevance_score\"], reverse=True)\n",
    "    return recommendations\n",
    "\n",
    "# Sample data\n",
    "user_prefs = [\"AI\", \"Machine Learning\", \"Python\"]\n",
    "content_library = [\n",
    "    {\"title\": \"Introduction to AI\", \"tags\": [\"ai\", \"beginner\"]},\n",
    "    {\"title\": \"Python for Data Science\", \"tags\": [\"python\", \"data science\"]},\n",
    "    {\"title\": \"Machine Learning Basics\", \"tags\": [\"machine learning\", \"ai\"]},\n",
    "    {\"title\": \"Web Development\", \"tags\": [\"html\", \"css\", \"javascript\"]}\n",
    "]\n",
    "\n",
    "recommendations = recommend_content(user_prefs, content_library)\n",
    "print(\"Recommended Content:\")\n",
    "for item in recommendations:\n",
    "    print(f\"- {item['title']} (Score: {item['relevance_score']})\")"
   ]
  },
  {
   "cell_type": "code",
   "execution_count": null,
   "id": "59865029-9432-4393-8020-7b6684d7be3f",
   "metadata": {},
   "outputs": [],
   "source": []
  }
 ],
 "metadata": {
  "kernelspec": {
   "display_name": "Python 3 (ipykernel)",
   "language": "python",
   "name": "python3"
  },
  "language_info": {
   "codemirror_mode": {
    "name": "ipython",
    "version": 3
   },
   "file_extension": ".py",
   "mimetype": "text/x-python",
   "name": "python",
   "nbconvert_exporter": "python",
   "pygments_lexer": "ipython3",
   "version": "3.13.3"
  }
 },
 "nbformat": 4,
 "nbformat_minor": 5
}
