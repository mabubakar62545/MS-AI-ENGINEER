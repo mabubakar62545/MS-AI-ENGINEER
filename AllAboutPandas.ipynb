{
  "nbformat": 4,
  "nbformat_minor": 0,
  "metadata": {
    "colab": {
      "provenance": [],
      "authorship_tag": "ABX9TyOyP/hXm1y7mxl7FKXB6OlK",
      "include_colab_link": true
    },
    "kernelspec": {
      "name": "python3",
      "display_name": "Python 3"
    },
    "language_info": {
      "name": "python"
    }
  },
  "cells": [
    {
      "cell_type": "markdown",
      "metadata": {
        "id": "view-in-github",
        "colab_type": "text"
      },
      "source": [
        "<a href=\"https://colab.research.google.com/github/mabubakar62545/MS-AI-ENGINEER/blob/main/AllAboutPandas.ipynb\" target=\"_parent\"><img src=\"https://colab.research.google.com/assets/colab-badge.svg\" alt=\"Open In Colab\"/></a>"
      ]
    },
    {
      "cell_type": "markdown",
      "source": [
        "# What is Pandas?\n",
        "\n",
        "\n",
        "Pandas is a Python library used for working with data sets.\n",
        "\n",
        "It has functions for analyzing, cleaning, exploring, and manipulating data.\n",
        "\n",
        "The name \"Pandas\" has a reference to both \"Panel Data\", and \"Python Data Analysis\" and was created by Wes McKinney in 2008."
      ],
      "metadata": {
        "id": "aTx440go26yd"
      }
    },
    {
      "cell_type": "markdown",
      "source": [
        "# Why Use Pandas?\n",
        "\n",
        "Pandas allows us to analyze big data and make conclusions based on statistical theories.\n",
        "\n",
        "Pandas can clean messy data sets, and make them readable and relevant.\n",
        "\n",
        "Relevant data is very important in data science."
      ],
      "metadata": {
        "id": "aG4bIBan3TrG"
      }
    },
    {
      "cell_type": "markdown",
      "source": [
        "# What Can Pandas Do?\n",
        "\n",
        "Is there a correlation between two or more columns?\n",
        "\n",
        "What is average value?\n",
        "\n",
        "Max value?\n",
        "\n",
        "Min value?\n",
        "\n",
        "Pandas are also able to delete rows that are not relevant, or contains wrong values, like empty or NULL values. This is called cleaning the data."
      ],
      "metadata": {
        "id": "CCYPH2kj3pny"
      }
    },
    {
      "cell_type": "markdown",
      "source": [
        "#What kind of data does pandas handle?"
      ],
      "metadata": {
        "id": "YPHnRj0qK3rR"
      }
    },
    {
      "cell_type": "markdown",
      "source": [
        "Tabular data, such as data stored in spreadsheets or databases.\n",
        "In pandas, a data table is called a DataFrame."
      ],
      "metadata": {
        "id": "NKi88KkdLj1b"
      }
    },
    {
      "cell_type": "markdown",
      "source": [
        "\n",
        "*   pandas supports the integration with many file formats or data sources out of the box (csv, excel, sql, json, parquet,…). Importing data from each of these data sources is provided by function with the prefix read_*. Similarly, the to_* methods are used to store data.\n",
        "\n"
      ],
      "metadata": {
        "id": "p4wmQSvEK-L_"
      }
    },
    {
      "cell_type": "markdown",
      "source": [
        "# Where is the Pandas Codebase?\n",
        "\n",
        "The source code for Pandas is located at this github repository https://github.com/pandas-dev/pandas"
      ],
      "metadata": {
        "id": "3NPxLeBc4Lq3"
      }
    },
    {
      "cell_type": "code",
      "source": [
        "import pandas as pd"
      ],
      "metadata": {
        "id": "TrDJ_4I0xX8J"
      },
      "execution_count": 31,
      "outputs": []
    },
    {
      "cell_type": "code",
      "source": [
        "mydataset = {\n",
        "  'cars': [\"BMW\", \"Volvo\", \"Ford\"],\n",
        "  'passings': [3, 7, 2]\n",
        "}\n",
        "\n",
        "myvar = pd.DataFrame(mydataset)\n",
        "\n",
        "print(myvar)\n",
        "\n",
        "# Convert data into tabular form\n",
        "\n",
        "print(f\"Pandas Version: {pd.__version__}\")"
      ],
      "metadata": {
        "colab": {
          "base_uri": "https://localhost:8080/"
        },
        "id": "lznxIwTg5C2D",
        "outputId": "76e5903f-72e0-438a-8885-7f8a604a7e25"
      },
      "execution_count": 32,
      "outputs": [
        {
          "output_type": "stream",
          "name": "stdout",
          "text": [
            "    cars  passings\n",
            "0    BMW         3\n",
            "1  Volvo         7\n",
            "2   Ford         2\n",
            "Pandas Version: 2.2.2\n"
          ]
        }
      ]
    },
    {
      "cell_type": "markdown",
      "source": [
        "# Pandas Series"
      ],
      "metadata": {
        "id": "0Fy9wB7S6B-q"
      }
    },
    {
      "cell_type": "markdown",
      "source": [
        "## What is a Series?\n",
        "\n",
        "A Pandas Series is like a column in a table.\n",
        "\n",
        "It is a one-dimensional array holding data of any type."
      ],
      "metadata": {
        "id": "zeTf_8M86HBy"
      }
    },
    {
      "cell_type": "code",
      "source": [
        "a = [1, 7, 2]\n",
        "\n",
        "myvar = pd.Series(a)\n",
        "\n",
        "print(myvar)\n",
        "\n",
        "# If nothing else is specified, the values are labeled with their index number.\n",
        "# First value has index 0, second value has index 1 etc.\n",
        "\n",
        "print(myvar[0])\n",
        "# With the index argument, you can name your own labels.\n",
        "\n",
        "myvar = pd.Series(a, index = [\"x\", \"y\", \"z\"])\n",
        "\n",
        "print(myvar)\n",
        "\n",
        "# When you have created labels, you can access an item by referring to the label.\n",
        "\n",
        "print(myvar['y'])"
      ],
      "metadata": {
        "colab": {
          "base_uri": "https://localhost:8080/"
        },
        "id": "mno-pFzl6shX",
        "outputId": "6e63d6a8-5833-4485-f001-663be63c4335"
      },
      "execution_count": 33,
      "outputs": [
        {
          "output_type": "stream",
          "name": "stdout",
          "text": [
            "0    1\n",
            "1    7\n",
            "2    2\n",
            "dtype: int64\n",
            "1\n",
            "x    1\n",
            "y    7\n",
            "z    2\n",
            "dtype: int64\n",
            "7\n"
          ]
        }
      ]
    },
    {
      "cell_type": "markdown",
      "source": [
        "## Key/Value Objects as Series\n",
        "\n",
        "You can also use a key/value object, like a dictionary, when creating a Series."
      ],
      "metadata": {
        "id": "u_oNWC-f-uyP"
      }
    },
    {
      "cell_type": "code",
      "source": [
        "calories = {\"day1\": 420, \"day2\": 380, \"day3\": 390}\n",
        "\n",
        "myvar = pd.Series(calories)\n",
        "\n",
        "print(myvar)\n",
        "print(myvar['day1'])\n",
        "\n",
        "#  The keys of the dictionary become the labels."
      ],
      "metadata": {
        "colab": {
          "base_uri": "https://localhost:8080/"
        },
        "id": "Gq0N6fBB_CeJ",
        "outputId": "b9d07ee8-7638-44ed-8b14-393acdb80605"
      },
      "execution_count": 34,
      "outputs": [
        {
          "output_type": "stream",
          "name": "stdout",
          "text": [
            "day1    420\n",
            "day2    380\n",
            "day3    390\n",
            "dtype: int64\n",
            "420\n"
          ]
        }
      ]
    },
    {
      "cell_type": "markdown",
      "source": [
        "# DataFrames"
      ],
      "metadata": {
        "id": "oQFNZ2f4_lM5"
      }
    },
    {
      "cell_type": "markdown",
      "source": [
        "Data sets in Pandas are usually multi-dimensional tables, called DataFrames.\n",
        "\n",
        "Series is like a column, a DataFrame is the whole table."
      ],
      "metadata": {
        "id": "NkQyd7rq_m3u"
      }
    },
    {
      "cell_type": "code",
      "source": [
        "data = {\n",
        "  \"calories\": [420, 380, 390],\n",
        "  \"duration\": [50, 40, 45]\n",
        "}\n",
        "\n",
        "myvar = pd.DataFrame(data)\n",
        "\n",
        "print(myvar)"
      ],
      "metadata": {
        "colab": {
          "base_uri": "https://localhost:8080/"
        },
        "id": "TFTx2b_c__66",
        "outputId": "d7df4a44-d9f2-4bfd-9bff-4b8987be52b7"
      },
      "execution_count": 35,
      "outputs": [
        {
          "output_type": "stream",
          "name": "stdout",
          "text": [
            "   calories  duration\n",
            "0       420        50\n",
            "1       380        40\n",
            "2       390        45\n"
          ]
        }
      ]
    },
    {
      "cell_type": "markdown",
      "source": [
        "## What is a DataFrame?\n",
        "\n",
        " A Pandas DataFrame is a 2 dimensional data structure, like a 2 dimensional array, or a table with rows and columns."
      ],
      "metadata": {
        "id": "DyKY3D-AAZbO"
      }
    },
    {
      "cell_type": "markdown",
      "source": [
        "## Locate Row\n",
        "\n",
        "Pandas use the loc attribute to return one or more specified row(s)"
      ],
      "metadata": {
        "id": "3oUvWL60BFZA"
      }
    },
    {
      "cell_type": "code",
      "source": [
        "data = {\n",
        "  \"calories\": [420, 380, 390],\n",
        "  \"duration\": [50, 40, 45]\n",
        "}\n",
        "\n",
        "#load data into a DataFrame object:\n",
        "df = pd.DataFrame(data)\n",
        "\n",
        "print(df)\n",
        "\n",
        "#refer to the row index:\n",
        "print(df.loc[0])\n",
        "\n",
        "#use a list of indexes:\n",
        "print(df.loc[[0, 1]])\n",
        "# When using [], the result is a Pandas DataFrame."
      ],
      "metadata": {
        "colab": {
          "base_uri": "https://localhost:8080/"
        },
        "id": "qVXPKHhXBSSD",
        "outputId": "12773511-a6c4-489f-8719-5cb5b7497fef"
      },
      "execution_count": 36,
      "outputs": [
        {
          "output_type": "stream",
          "name": "stdout",
          "text": [
            "   calories  duration\n",
            "0       420        50\n",
            "1       380        40\n",
            "2       390        45\n",
            "calories    420\n",
            "duration     50\n",
            "Name: 0, dtype: int64\n",
            "   calories  duration\n",
            "0       420        50\n",
            "1       380        40\n"
          ]
        }
      ]
    },
    {
      "cell_type": "markdown",
      "source": [
        "## Named Indexes\n",
        "\n",
        "With the index argument, you can name your own indexes."
      ],
      "metadata": {
        "id": "xYKSteD9D9w0"
      }
    },
    {
      "cell_type": "code",
      "source": [
        "data = {\n",
        "  \"calories\": [420, 380, 390],\n",
        "  \"duration\": [50, 40, 45]\n",
        "}\n",
        "\n",
        "df = pd.DataFrame(data, index = [\"day1\", \"day2\", \"day3\"])\n",
        "\n",
        "print(df)\n",
        "\n",
        "#refer to the named index:\n",
        "print(df.loc[\"day2\"])"
      ],
      "metadata": {
        "colab": {
          "base_uri": "https://localhost:8080/"
        },
        "id": "e6dcshGOEVoO",
        "outputId": "34a65874-4cf2-41e1-9117-4b6026fbccfe"
      },
      "execution_count": 37,
      "outputs": [
        {
          "output_type": "stream",
          "name": "stdout",
          "text": [
            "      calories  duration\n",
            "day1       420        50\n",
            "day2       380        40\n",
            "day3       390        45\n",
            "calories    380\n",
            "duration     40\n",
            "Name: day2, dtype: int64\n"
          ]
        }
      ]
    },
    {
      "cell_type": "markdown",
      "source": [
        "# Load Files Into a DataFrame\n",
        "\n",
        "If your data sets are stored in a file, Pandas can load them into a DataFrame."
      ],
      "metadata": {
        "id": "HoNhpalIE7_z"
      }
    },
    {
      "cell_type": "code",
      "source": [
        "# df = pd.read_csv('magic04.data')\n",
        "\n",
        "print(df)\n",
        "\n",
        "# print(df.to_string())\n",
        "# Tip: use to_string() to print the entire DataFrame."
      ],
      "metadata": {
        "colab": {
          "base_uri": "https://localhost:8080/"
        },
        "id": "1qfIznhMx0VQ",
        "outputId": "c98e690c-e7a8-41c8-d538-cfef2ff27d31"
      },
      "execution_count": 38,
      "outputs": [
        {
          "output_type": "stream",
          "name": "stdout",
          "text": [
            "      calories  duration\n",
            "day1       420        50\n",
            "day2       380        40\n",
            "day3       390        45\n"
          ]
        }
      ]
    },
    {
      "cell_type": "markdown",
      "source": [
        "# Read CSV Files\n",
        "\n",
        "A simple way to store big data sets is to use CSV files (comma separated files).\n",
        "\n",
        "CSV files contains plain text and is a well know format that can be read by everyone including Pandas.\n",
        "\n",
        "Increase the maximum number of rows to display the entire DataFrame: (pd.options.display.max_rows = 9999)\n",
        "\n",
        "JSON = Python Dictionary\n",
        "\n",
        "JSON objects have the same format as Python dictionaries.\n",
        "\n"
      ],
      "metadata": {
        "id": "-KqX4QIHF-1w"
      }
    },
    {
      "cell_type": "markdown",
      "source": [
        "## Pandas - Analyzing DataFrames\n"
      ],
      "metadata": {
        "id": "6QTBjXCXJIrS"
      }
    },
    {
      "cell_type": "markdown",
      "source": [
        "## Viewing the Data\n",
        "\n",
        "One of the most used method for getting a quick overview of the DataFrame, is the head() method.\n",
        "\n",
        "The head() method returns the headers and a specified number of rows, starting from the top.\n",
        "\n",
        "There is also a tail() method for viewing the last rows of the DataFrame.\n",
        "\n",
        "The DataFrames object has a method called info(), that gives you more information about the data set."
      ],
      "metadata": {
        "id": "s-MvfjSgJVLf"
      }
    },
    {
      "cell_type": "code",
      "source": [
        "df.head()\n",
        "print(df.head(10))"
      ],
      "metadata": {
        "colab": {
          "base_uri": "https://localhost:8080/"
        },
        "id": "skwZ7RuJx78C",
        "outputId": "942a50c1-a261-4c1f-98a0-6d8d6b56d4a4"
      },
      "execution_count": 39,
      "outputs": [
        {
          "output_type": "stream",
          "name": "stdout",
          "text": [
            "      calories  duration\n",
            "day1       420        50\n",
            "day2       380        40\n",
            "day3       390        45\n"
          ]
        }
      ]
    },
    {
      "cell_type": "markdown",
      "source": [
        "# Cleaning Data\n",
        "\n",
        "Data cleaning means fixing bad data in your data set.\n",
        "\n",
        "Bad data could be:\n",
        "\n",
        "Empty cells\n",
        "Data in wrong format\n",
        "Wrong data\n",
        "Duplicates"
      ],
      "metadata": {
        "id": "U1ywXj4sdkyt"
      }
    },
    {
      "cell_type": "code",
      "source": [
        "import numpy as np\n",
        "# Data dictionary\n",
        "data = {\n",
        "    \"Duration\": [60,60,60,45,45,60,60,450,30,60,60,60,60,60,60,60,60,60,45,60,45,60,45,60,45,60,60,60,60,60,60,60],\n",
        "    \"Date\": [\n",
        "        '2020/12/01','2020/12/02','2020/12/03','2020/12/04','2020/12/05','2020/12/06','2020/12/07',\n",
        "        '2020/12/08','2020/12/09','2020/12/10','2020/12/11','2020/12/12','2020/12/12','2020/12/13',\n",
        "        '2020/12/14','2020/12/15','2020/12/16','2020/12/17','2020/12/18', '2020/12/19','2020/12/20',\n",
        "        '2020/12/21', np.nan, '2020/12/23','2020/12/24','2020/12/25','2020/12/26','2020/12/27',\n",
        "        '2020/12/28','2020/12/29','2020/12/30','2020/12/31'\n",
        "    ],\n",
        "    \"Pulse\": [110,117,103,109,117,102,110,104,109,98,103,100,100,106,104,98,98,100,90,103,97,108,100,130,105,102,100,92,103,100,102,92],\n",
        "    \"Maxpulse\": [130,145,135,175,148,127,136,134,133,124,147,120,120,128,132,123,120,120,112,123,125,131,119,101,132,126,120,118,132,132,129,115],\n",
        "    \"Calories\": [409.1,479.0,340.0,282.4,406.0,300.0,374.0,253.3,195.1,269.0,329.3,250.7,250.7,345.3,379.3,\n",
        "                 275.0,215.2,300.0,np.nan,323.0,243.0,364.2,282.0,300.0,246.0,334.5,250.0,241.0,np.nan,280.0,380.3,243.0]\n",
        "}"
      ],
      "metadata": {
        "id": "ocxSb72Jx9pg"
      },
      "execution_count": 40,
      "outputs": []
    },
    {
      "cell_type": "markdown",
      "source": [
        "The data set contains some empty cells (\"Date\" in row 22, and \"Calories\" in row 18 and 28).\n",
        "\n",
        "The data set contains wrong format (\"Date\" in row 26).\n",
        "\n",
        "The data set contains wrong data (\"Duration\" in row 7).\n",
        "\n",
        "The data set contains duplicates (row 11 and 12)."
      ],
      "metadata": {
        "id": "GOUMfn0FgbG-"
      }
    },
    {
      "cell_type": "markdown",
      "source": [
        "# Cleaning Empty Cells\n",
        "\n",
        "Empty cells can potentially give you a wrong result when you analyze data.\n",
        "\n",
        "## Remove Rows\n",
        "\n",
        "One way to deal with empty cells is to remove rows that contain empty cells.\n",
        "\n",
        "This is usually OK, since data sets can be very big, and removing a few rows will not have a big impact on the result.\n",
        "\n",
        "### dropna()\n",
        "\n",
        "Now, the dropna(inplace = True) will NOT return a new DataFrame, but it will remove all rows containing NULL values from the original DataFrame.\n",
        "\n",
        "## Replace Empty Values\n",
        "\n",
        "### fillna()\n",
        "\n",
        "Another way of dealing with empty cells is to insert a new value instead.\n",
        "\n",
        "This way you do not have to delete entire rows just because of some empty cells.\n",
        "\n",
        "The fillna() method allows us to replace empty cells with a value:\n",
        "\n",
        "\n",
        "## Replace Only For Specified Columns\n",
        "\n",
        "The example above replaces all empty cells in the whole Data Frame.\n",
        "\n",
        "To only replace empty values for one column, specify the column name for the DataFrame:\n",
        "\n",
        "## Replace Using Mean, Median, or Mode\n",
        "\n",
        "A common way to replace empty cells, is to calculate the mean, median or mode value of the column.\n",
        "\n",
        "Pandas uses the mean() median() and mode() methods to calculate the respective values for a specified column:"
      ],
      "metadata": {
        "id": "9ts3uwajgmhs"
      }
    },
    {
      "cell_type": "code",
      "source": [
        "df = pd.DataFrame(data)\n",
        "\n",
        "# By default, the dropna() method returns a new DataFrame, and will not change the original.\n",
        "new_df = df.dropna()\n",
        "# If you want to change the original DataFrame, use the inplace = True argument:\n",
        "df.dropna(inplace = True)\n",
        "\n",
        "print(new_df.to_string())\n",
        "print(df.to_string())\n",
        "\n",
        "df = pd.DataFrame(data)\n",
        "\n",
        "df.fillna(130, inplace = True)\n",
        "\n",
        "df.fillna({\"Calories\": 150}, inplace=True) # Replace NULL values in the \"Calories\" columns with the number 130:\n",
        "\n",
        "x = df[\"Calories\"].mean()\n",
        "\n",
        "df.fillna({\"Calories\": x}, inplace=True)\n"
      ],
      "metadata": {
        "colab": {
          "base_uri": "https://localhost:8080/"
        },
        "id": "ifvVUUTf1HIm",
        "outputId": "b995ebd7-c645-4f7d-9b3f-47dbee06382e"
      },
      "execution_count": 41,
      "outputs": [
        {
          "output_type": "stream",
          "name": "stdout",
          "text": [
            "    Duration        Date  Pulse  Maxpulse  Calories\n",
            "0         60  2020/12/01    110       130     409.1\n",
            "1         60  2020/12/02    117       145     479.0\n",
            "2         60  2020/12/03    103       135     340.0\n",
            "3         45  2020/12/04    109       175     282.4\n",
            "4         45  2020/12/05    117       148     406.0\n",
            "5         60  2020/12/06    102       127     300.0\n",
            "6         60  2020/12/07    110       136     374.0\n",
            "7        450  2020/12/08    104       134     253.3\n",
            "8         30  2020/12/09    109       133     195.1\n",
            "9         60  2020/12/10     98       124     269.0\n",
            "10        60  2020/12/11    103       147     329.3\n",
            "11        60  2020/12/12    100       120     250.7\n",
            "12        60  2020/12/12    100       120     250.7\n",
            "13        60  2020/12/13    106       128     345.3\n",
            "14        60  2020/12/14    104       132     379.3\n",
            "15        60  2020/12/15     98       123     275.0\n",
            "16        60  2020/12/16     98       120     215.2\n",
            "17        60  2020/12/17    100       120     300.0\n",
            "19        60  2020/12/19    103       123     323.0\n",
            "20        45  2020/12/20     97       125     243.0\n",
            "21        60  2020/12/21    108       131     364.2\n",
            "23        60  2020/12/23    130       101     300.0\n",
            "24        45  2020/12/24    105       132     246.0\n",
            "25        60  2020/12/25    102       126     334.5\n",
            "26        60  2020/12/26    100       120     250.0\n",
            "27        60  2020/12/27     92       118     241.0\n",
            "29        60  2020/12/29    100       132     280.0\n",
            "30        60  2020/12/30    102       129     380.3\n",
            "31        60  2020/12/31     92       115     243.0\n",
            "    Duration        Date  Pulse  Maxpulse  Calories\n",
            "0         60  2020/12/01    110       130     409.1\n",
            "1         60  2020/12/02    117       145     479.0\n",
            "2         60  2020/12/03    103       135     340.0\n",
            "3         45  2020/12/04    109       175     282.4\n",
            "4         45  2020/12/05    117       148     406.0\n",
            "5         60  2020/12/06    102       127     300.0\n",
            "6         60  2020/12/07    110       136     374.0\n",
            "7        450  2020/12/08    104       134     253.3\n",
            "8         30  2020/12/09    109       133     195.1\n",
            "9         60  2020/12/10     98       124     269.0\n",
            "10        60  2020/12/11    103       147     329.3\n",
            "11        60  2020/12/12    100       120     250.7\n",
            "12        60  2020/12/12    100       120     250.7\n",
            "13        60  2020/12/13    106       128     345.3\n",
            "14        60  2020/12/14    104       132     379.3\n",
            "15        60  2020/12/15     98       123     275.0\n",
            "16        60  2020/12/16     98       120     215.2\n",
            "17        60  2020/12/17    100       120     300.0\n",
            "19        60  2020/12/19    103       123     323.0\n",
            "20        45  2020/12/20     97       125     243.0\n",
            "21        60  2020/12/21    108       131     364.2\n",
            "23        60  2020/12/23    130       101     300.0\n",
            "24        45  2020/12/24    105       132     246.0\n",
            "25        60  2020/12/25    102       126     334.5\n",
            "26        60  2020/12/26    100       120     250.0\n",
            "27        60  2020/12/27     92       118     241.0\n",
            "29        60  2020/12/29    100       132     280.0\n",
            "30        60  2020/12/30    102       129     380.3\n",
            "31        60  2020/12/31     92       115     243.0\n"
          ]
        }
      ]
    },
    {
      "cell_type": "markdown",
      "source": [
        "# Cleaning Data of Wrong Format\n",
        "\n",
        "Cells with data of wrong format can make it difficult, or even impossible, to analyze data.\n",
        "\n",
        "To fix it, you have two options: remove the rows, or convert all cells in the columns into the same format.\n",
        "\n",
        "Remove rows with a NULL value in the \"Date\" column:\n",
        "\n",
        "### df.dropna(subset=['Date'], inplace = True)"
      ],
      "metadata": {
        "id": "vjOLeiBZmnkn"
      }
    },
    {
      "cell_type": "code",
      "source": [
        "df['Date'] = pd.to_datetime(df['Date'], format='mixed')"
      ],
      "metadata": {
        "id": "keRgYiFYhfw3"
      },
      "execution_count": 42,
      "outputs": []
    },
    {
      "cell_type": "code",
      "source": [
        "df.dropna(subset=['Date'], inplace = True)"
      ],
      "metadata": {
        "id": "8_L1EGESpM5g"
      },
      "execution_count": 43,
      "outputs": []
    },
    {
      "cell_type": "markdown",
      "source": [
        "# Wrong Data\n",
        "\n",
        "## Replacing Values\n",
        "\n",
        "One way to fix wrong values is to replace them with something else.\n",
        "\n",
        "In our example, it is most likely a typo, and the value should be \"45\" instead of \"450\", and we could just insert \"45\" in row 7:\n",
        "\n",
        "For small data sets you might be able to replace the wrong data one by one, but not for big data sets.\n",
        "\n",
        "To replace wrong data for larger data sets you can create some rules, e.g. set some boundaries for legal values, and replace any values that are outside of the boundaries.\n",
        "\n",
        "\n",
        "\n",
        "## Removing Rows\n",
        "\n",
        "Another way of handling wrong data is to remove the rows that contains wrong data.\n",
        "\n",
        "This way you do not have to find out what to replace them with, and there is a good chance you do not need them to do your analyses."
      ],
      "metadata": {
        "id": "QziBwNznsQdn"
      }
    },
    {
      "cell_type": "code",
      "source": [
        "df.loc[7, 'Duration'] = 45"
      ],
      "metadata": {
        "id": "MoMc7-2Uptnd"
      },
      "execution_count": 44,
      "outputs": []
    },
    {
      "cell_type": "code",
      "source": [
        "print(df)"
      ],
      "metadata": {
        "colab": {
          "base_uri": "https://localhost:8080/"
        },
        "id": "TnHiafjcv7qC",
        "outputId": "49ec85d3-421b-4382-b411-d87af71a3b43"
      },
      "execution_count": 45,
      "outputs": [
        {
          "output_type": "stream",
          "name": "stdout",
          "text": [
            "    Duration                          Date  Pulse  Maxpulse  Calories\n",
            "0         60 2020-12-01 00:00:00.000000000    110       130     409.1\n",
            "1         60 2020-12-02 00:00:00.000000000    117       145     479.0\n",
            "2         60 2020-12-03 00:00:00.000000000    103       135     340.0\n",
            "3         45 2020-12-04 00:00:00.000000000    109       175     282.4\n",
            "4         45 2020-12-05 00:00:00.000000000    117       148     406.0\n",
            "5         60 2020-12-06 00:00:00.000000000    102       127     300.0\n",
            "6         60 2020-12-07 00:00:00.000000000    110       136     374.0\n",
            "7         45 2020-12-08 00:00:00.000000000    104       134     253.3\n",
            "8         30 2020-12-09 00:00:00.000000000    109       133     195.1\n",
            "9         60 2020-12-10 00:00:00.000000000     98       124     269.0\n",
            "10        60 2020-12-11 00:00:00.000000000    103       147     329.3\n",
            "11        60 2020-12-12 00:00:00.000000000    100       120     250.7\n",
            "12        60 2020-12-12 00:00:00.000000000    100       120     250.7\n",
            "13        60 2020-12-13 00:00:00.000000000    106       128     345.3\n",
            "14        60 2020-12-14 00:00:00.000000000    104       132     379.3\n",
            "15        60 2020-12-15 00:00:00.000000000     98       123     275.0\n",
            "16        60 2020-12-16 00:00:00.000000000     98       120     215.2\n",
            "17        60 2020-12-17 00:00:00.000000000    100       120     300.0\n",
            "18        45 2020-12-18 00:00:00.000000000     90       112     130.0\n",
            "19        60 2020-12-19 00:00:00.000000000    103       123     323.0\n",
            "20        45 2020-12-20 00:00:00.000000000     97       125     243.0\n",
            "21        60 2020-12-21 00:00:00.000000000    108       131     364.2\n",
            "22        45 1970-01-01 00:00:00.000000130    100       119     282.0\n",
            "23        60 2020-12-23 00:00:00.000000000    130       101     300.0\n",
            "24        45 2020-12-24 00:00:00.000000000    105       132     246.0\n",
            "25        60 2020-12-25 00:00:00.000000000    102       126     334.5\n",
            "26        60 2020-12-26 00:00:00.000000000    100       120     250.0\n",
            "27        60 2020-12-27 00:00:00.000000000     92       118     241.0\n",
            "28        60 2020-12-28 00:00:00.000000000    103       132     130.0\n",
            "29        60 2020-12-29 00:00:00.000000000    100       132     280.0\n",
            "30        60 2020-12-30 00:00:00.000000000    102       129     380.3\n",
            "31        60 2020-12-31 00:00:00.000000000     92       115     243.0\n"
          ]
        }
      ]
    },
    {
      "cell_type": "code",
      "source": [
        "for x in df.index:\n",
        "  if df.loc[x, \"Duration\"] > 120:\n",
        "    df.loc[x, \"Duration\"] = 120\n",
        "\n",
        "for x in df.index:\n",
        "  if df.loc[x, \"Duration\"] > 120:\n",
        "    # Delete rows where \"Duration\" is higher than 120:\n",
        "    df.drop(x, inplace = True)"
      ],
      "metadata": {
        "id": "uHzkBiguv-YW"
      },
      "execution_count": 46,
      "outputs": []
    },
    {
      "cell_type": "markdown",
      "source": [
        "# Removing Duplicates\n",
        "\n",
        "Duplicate rows are rows that have been registered more than one time.\n",
        "\n",
        "To discover duplicates, we can use the duplicated() method.\n",
        "\n",
        "The duplicated() method returns a Boolean values for each row:\n",
        "\n",
        "Returns True for every row that is a duplicate, otherwise False\n",
        "\n",
        "To remove duplicates, use the drop_duplicates() method.\n",
        "\n"
      ],
      "metadata": {
        "id": "hK6RM_qNj7st"
      }
    },
    {
      "cell_type": "code",
      "source": [
        "df.drop_duplicates(inplace = True)"
      ],
      "metadata": {
        "id": "zZOpX3OEj7W9"
      },
      "execution_count": 47,
      "outputs": []
    },
    {
      "cell_type": "markdown",
      "source": [
        "# Data Correlations\n",
        "\n",
        "## Finding Relationships\n",
        "\n",
        "A great aspect of the Pandas module is the corr() method.\n",
        "\n",
        "The corr() method calculates the relationship between each column in your data set.\n",
        "\n",
        "The corr() method ignores \"not numeric\" columns.\n",
        "\n",
        "he Result of the corr() method is a table with a lot of numbers that represents how well the relationship is between two columns.\n",
        "\n",
        "The number varies from -1 to 1.\n",
        "\n",
        "1 means that there is a 1 to 1 relationship (a perfect correlation), and for this data set, each time a value went up in the first column, the other one went up as well.\n",
        "\n",
        "0.9 is also a good relationship, and if you increase one value, the other will probably increase as well.\n",
        "\n",
        "-0.9 would be just as good relationship as 0.9, but if you increase one value, the other will probably go down.\n",
        "\n",
        "0.2 means NOT a good relationship, meaning that if one value goes up does not mean that the other will.\n",
        "\n",
        "What is a good correlation? It depends on the use, but I think it is safe to say you have to have at least 0.6 (or -0.6) to call it a good correlation.\n",
        "\n",
        "### Perfect Correlation:\n",
        "We can see that \"Duration\" and \"Duration\" got the number 1.000000, which makes sense, each column always has a perfect relationship with itself.\n",
        "\n",
        "### Good Correlation:\n",
        "\"Duration\" and \"Calories\" got a 0.922721 correlation, which is a very good correlation, and we can predict that the longer you work out, the more calories you burn, and the other way around: if you burned a lot of calories, you probably had a long work out.\n",
        "\n",
        "### Bad Correlation:\n",
        "\"Duration\" and \"Maxpulse\" got a 0.009403 correlation, which is a very bad correlation, meaning that we can not predict the max pulse by just looking at the duration of the work out, and vice versa."
      ],
      "metadata": {
        "id": "h3PxmNGZm0Du"
      }
    },
    {
      "cell_type": "code",
      "source": [
        "# Show the relationship between the columns:\n",
        "\n",
        "df.corr()"
      ],
      "metadata": {
        "colab": {
          "base_uri": "https://localhost:8080/",
          "height": 206
        },
        "id": "mSy3O4UGyYkt",
        "outputId": "66763530-fa23-4fd9-dbb0-0715a18e97ac"
      },
      "execution_count": 48,
      "outputs": [
        {
          "output_type": "execute_result",
          "data": {
            "text/plain": [
              "          Duration      Date     Pulse  Maxpulse  Calories\n",
              "Duration  1.000000  0.249655 -0.059452 -0.250033  0.343091\n",
              "Date      0.249655  1.000000  0.083499  0.136887  0.030252\n",
              "Pulse    -0.059452  0.083499  1.000000  0.269672  0.531143\n",
              "Maxpulse -0.250033  0.136887  0.269672  1.000000  0.353646\n",
              "Calories  0.343091  0.030252  0.531143  0.353646  1.000000"
            ],
            "text/html": [
              "\n",
              "  <div id=\"df-834c96e6-4d84-4a5b-b381-d94fa1bb47d6\" class=\"colab-df-container\">\n",
              "    <div>\n",
              "<style scoped>\n",
              "    .dataframe tbody tr th:only-of-type {\n",
              "        vertical-align: middle;\n",
              "    }\n",
              "\n",
              "    .dataframe tbody tr th {\n",
              "        vertical-align: top;\n",
              "    }\n",
              "\n",
              "    .dataframe thead th {\n",
              "        text-align: right;\n",
              "    }\n",
              "</style>\n",
              "<table border=\"1\" class=\"dataframe\">\n",
              "  <thead>\n",
              "    <tr style=\"text-align: right;\">\n",
              "      <th></th>\n",
              "      <th>Duration</th>\n",
              "      <th>Date</th>\n",
              "      <th>Pulse</th>\n",
              "      <th>Maxpulse</th>\n",
              "      <th>Calories</th>\n",
              "    </tr>\n",
              "  </thead>\n",
              "  <tbody>\n",
              "    <tr>\n",
              "      <th>Duration</th>\n",
              "      <td>1.000000</td>\n",
              "      <td>0.249655</td>\n",
              "      <td>-0.059452</td>\n",
              "      <td>-0.250033</td>\n",
              "      <td>0.343091</td>\n",
              "    </tr>\n",
              "    <tr>\n",
              "      <th>Date</th>\n",
              "      <td>0.249655</td>\n",
              "      <td>1.000000</td>\n",
              "      <td>0.083499</td>\n",
              "      <td>0.136887</td>\n",
              "      <td>0.030252</td>\n",
              "    </tr>\n",
              "    <tr>\n",
              "      <th>Pulse</th>\n",
              "      <td>-0.059452</td>\n",
              "      <td>0.083499</td>\n",
              "      <td>1.000000</td>\n",
              "      <td>0.269672</td>\n",
              "      <td>0.531143</td>\n",
              "    </tr>\n",
              "    <tr>\n",
              "      <th>Maxpulse</th>\n",
              "      <td>-0.250033</td>\n",
              "      <td>0.136887</td>\n",
              "      <td>0.269672</td>\n",
              "      <td>1.000000</td>\n",
              "      <td>0.353646</td>\n",
              "    </tr>\n",
              "    <tr>\n",
              "      <th>Calories</th>\n",
              "      <td>0.343091</td>\n",
              "      <td>0.030252</td>\n",
              "      <td>0.531143</td>\n",
              "      <td>0.353646</td>\n",
              "      <td>1.000000</td>\n",
              "    </tr>\n",
              "  </tbody>\n",
              "</table>\n",
              "</div>\n",
              "    <div class=\"colab-df-buttons\">\n",
              "\n",
              "  <div class=\"colab-df-container\">\n",
              "    <button class=\"colab-df-convert\" onclick=\"convertToInteractive('df-834c96e6-4d84-4a5b-b381-d94fa1bb47d6')\"\n",
              "            title=\"Convert this dataframe to an interactive table.\"\n",
              "            style=\"display:none;\">\n",
              "\n",
              "  <svg xmlns=\"http://www.w3.org/2000/svg\" height=\"24px\" viewBox=\"0 -960 960 960\">\n",
              "    <path d=\"M120-120v-720h720v720H120Zm60-500h600v-160H180v160Zm220 220h160v-160H400v160Zm0 220h160v-160H400v160ZM180-400h160v-160H180v160Zm440 0h160v-160H620v160ZM180-180h160v-160H180v160Zm440 0h160v-160H620v160Z\"/>\n",
              "  </svg>\n",
              "    </button>\n",
              "\n",
              "  <style>\n",
              "    .colab-df-container {\n",
              "      display:flex;\n",
              "      gap: 12px;\n",
              "    }\n",
              "\n",
              "    .colab-df-convert {\n",
              "      background-color: #E8F0FE;\n",
              "      border: none;\n",
              "      border-radius: 50%;\n",
              "      cursor: pointer;\n",
              "      display: none;\n",
              "      fill: #1967D2;\n",
              "      height: 32px;\n",
              "      padding: 0 0 0 0;\n",
              "      width: 32px;\n",
              "    }\n",
              "\n",
              "    .colab-df-convert:hover {\n",
              "      background-color: #E2EBFA;\n",
              "      box-shadow: 0px 1px 2px rgba(60, 64, 67, 0.3), 0px 1px 3px 1px rgba(60, 64, 67, 0.15);\n",
              "      fill: #174EA6;\n",
              "    }\n",
              "\n",
              "    .colab-df-buttons div {\n",
              "      margin-bottom: 4px;\n",
              "    }\n",
              "\n",
              "    [theme=dark] .colab-df-convert {\n",
              "      background-color: #3B4455;\n",
              "      fill: #D2E3FC;\n",
              "    }\n",
              "\n",
              "    [theme=dark] .colab-df-convert:hover {\n",
              "      background-color: #434B5C;\n",
              "      box-shadow: 0px 1px 3px 1px rgba(0, 0, 0, 0.15);\n",
              "      filter: drop-shadow(0px 1px 2px rgba(0, 0, 0, 0.3));\n",
              "      fill: #FFFFFF;\n",
              "    }\n",
              "  </style>\n",
              "\n",
              "    <script>\n",
              "      const buttonEl =\n",
              "        document.querySelector('#df-834c96e6-4d84-4a5b-b381-d94fa1bb47d6 button.colab-df-convert');\n",
              "      buttonEl.style.display =\n",
              "        google.colab.kernel.accessAllowed ? 'block' : 'none';\n",
              "\n",
              "      async function convertToInteractive(key) {\n",
              "        const element = document.querySelector('#df-834c96e6-4d84-4a5b-b381-d94fa1bb47d6');\n",
              "        const dataTable =\n",
              "          await google.colab.kernel.invokeFunction('convertToInteractive',\n",
              "                                                    [key], {});\n",
              "        if (!dataTable) return;\n",
              "\n",
              "        const docLinkHtml = 'Like what you see? Visit the ' +\n",
              "          '<a target=\"_blank\" href=https://colab.research.google.com/notebooks/data_table.ipynb>data table notebook</a>'\n",
              "          + ' to learn more about interactive tables.';\n",
              "        element.innerHTML = '';\n",
              "        dataTable['output_type'] = 'display_data';\n",
              "        await google.colab.output.renderOutput(dataTable, element);\n",
              "        const docLink = document.createElement('div');\n",
              "        docLink.innerHTML = docLinkHtml;\n",
              "        element.appendChild(docLink);\n",
              "      }\n",
              "    </script>\n",
              "  </div>\n",
              "\n",
              "\n",
              "    <div id=\"df-8e360175-38de-4b80-858c-37eb9182624f\">\n",
              "      <button class=\"colab-df-quickchart\" onclick=\"quickchart('df-8e360175-38de-4b80-858c-37eb9182624f')\"\n",
              "                title=\"Suggest charts\"\n",
              "                style=\"display:none;\">\n",
              "\n",
              "<svg xmlns=\"http://www.w3.org/2000/svg\" height=\"24px\"viewBox=\"0 0 24 24\"\n",
              "     width=\"24px\">\n",
              "    <g>\n",
              "        <path d=\"M19 3H5c-1.1 0-2 .9-2 2v14c0 1.1.9 2 2 2h14c1.1 0 2-.9 2-2V5c0-1.1-.9-2-2-2zM9 17H7v-7h2v7zm4 0h-2V7h2v10zm4 0h-2v-4h2v4z\"/>\n",
              "    </g>\n",
              "</svg>\n",
              "      </button>\n",
              "\n",
              "<style>\n",
              "  .colab-df-quickchart {\n",
              "      --bg-color: #E8F0FE;\n",
              "      --fill-color: #1967D2;\n",
              "      --hover-bg-color: #E2EBFA;\n",
              "      --hover-fill-color: #174EA6;\n",
              "      --disabled-fill-color: #AAA;\n",
              "      --disabled-bg-color: #DDD;\n",
              "  }\n",
              "\n",
              "  [theme=dark] .colab-df-quickchart {\n",
              "      --bg-color: #3B4455;\n",
              "      --fill-color: #D2E3FC;\n",
              "      --hover-bg-color: #434B5C;\n",
              "      --hover-fill-color: #FFFFFF;\n",
              "      --disabled-bg-color: #3B4455;\n",
              "      --disabled-fill-color: #666;\n",
              "  }\n",
              "\n",
              "  .colab-df-quickchart {\n",
              "    background-color: var(--bg-color);\n",
              "    border: none;\n",
              "    border-radius: 50%;\n",
              "    cursor: pointer;\n",
              "    display: none;\n",
              "    fill: var(--fill-color);\n",
              "    height: 32px;\n",
              "    padding: 0;\n",
              "    width: 32px;\n",
              "  }\n",
              "\n",
              "  .colab-df-quickchart:hover {\n",
              "    background-color: var(--hover-bg-color);\n",
              "    box-shadow: 0 1px 2px rgba(60, 64, 67, 0.3), 0 1px 3px 1px rgba(60, 64, 67, 0.15);\n",
              "    fill: var(--button-hover-fill-color);\n",
              "  }\n",
              "\n",
              "  .colab-df-quickchart-complete:disabled,\n",
              "  .colab-df-quickchart-complete:disabled:hover {\n",
              "    background-color: var(--disabled-bg-color);\n",
              "    fill: var(--disabled-fill-color);\n",
              "    box-shadow: none;\n",
              "  }\n",
              "\n",
              "  .colab-df-spinner {\n",
              "    border: 2px solid var(--fill-color);\n",
              "    border-color: transparent;\n",
              "    border-bottom-color: var(--fill-color);\n",
              "    animation:\n",
              "      spin 1s steps(1) infinite;\n",
              "  }\n",
              "\n",
              "  @keyframes spin {\n",
              "    0% {\n",
              "      border-color: transparent;\n",
              "      border-bottom-color: var(--fill-color);\n",
              "      border-left-color: var(--fill-color);\n",
              "    }\n",
              "    20% {\n",
              "      border-color: transparent;\n",
              "      border-left-color: var(--fill-color);\n",
              "      border-top-color: var(--fill-color);\n",
              "    }\n",
              "    30% {\n",
              "      border-color: transparent;\n",
              "      border-left-color: var(--fill-color);\n",
              "      border-top-color: var(--fill-color);\n",
              "      border-right-color: var(--fill-color);\n",
              "    }\n",
              "    40% {\n",
              "      border-color: transparent;\n",
              "      border-right-color: var(--fill-color);\n",
              "      border-top-color: var(--fill-color);\n",
              "    }\n",
              "    60% {\n",
              "      border-color: transparent;\n",
              "      border-right-color: var(--fill-color);\n",
              "    }\n",
              "    80% {\n",
              "      border-color: transparent;\n",
              "      border-right-color: var(--fill-color);\n",
              "      border-bottom-color: var(--fill-color);\n",
              "    }\n",
              "    90% {\n",
              "      border-color: transparent;\n",
              "      border-bottom-color: var(--fill-color);\n",
              "    }\n",
              "  }\n",
              "</style>\n",
              "\n",
              "      <script>\n",
              "        async function quickchart(key) {\n",
              "          const quickchartButtonEl =\n",
              "            document.querySelector('#' + key + ' button');\n",
              "          quickchartButtonEl.disabled = true;  // To prevent multiple clicks.\n",
              "          quickchartButtonEl.classList.add('colab-df-spinner');\n",
              "          try {\n",
              "            const charts = await google.colab.kernel.invokeFunction(\n",
              "                'suggestCharts', [key], {});\n",
              "          } catch (error) {\n",
              "            console.error('Error during call to suggestCharts:', error);\n",
              "          }\n",
              "          quickchartButtonEl.classList.remove('colab-df-spinner');\n",
              "          quickchartButtonEl.classList.add('colab-df-quickchart-complete');\n",
              "        }\n",
              "        (() => {\n",
              "          let quickchartButtonEl =\n",
              "            document.querySelector('#df-8e360175-38de-4b80-858c-37eb9182624f button');\n",
              "          quickchartButtonEl.style.display =\n",
              "            google.colab.kernel.accessAllowed ? 'block' : 'none';\n",
              "        })();\n",
              "      </script>\n",
              "    </div>\n",
              "\n",
              "    </div>\n",
              "  </div>\n"
            ],
            "application/vnd.google.colaboratory.intrinsic+json": {
              "type": "dataframe",
              "summary": "{\n  \"name\": \"df\",\n  \"rows\": 5,\n  \"fields\": [\n    {\n      \"column\": \"Duration\",\n      \"properties\": {\n        \"dtype\": \"number\",\n        \"std\": 0.4787323489530924,\n        \"min\": -0.2500334695293992,\n        \"max\": 1.0,\n        \"num_unique_values\": 5,\n        \"samples\": [\n          0.24965450188137572,\n          0.3430913981539141,\n          -0.05945162077545747\n        ],\n        \"semantic_type\": \"\",\n        \"description\": \"\"\n      }\n    },\n    {\n      \"column\": \"Date\",\n      \"properties\": {\n        \"dtype\": \"number\",\n        \"std\": 0.3996177263654994,\n        \"min\": 0.03025196268782608,\n        \"max\": 1.0,\n        \"num_unique_values\": 5,\n        \"samples\": [\n          1.0,\n          0.03025196268782608,\n          0.08349909382250129\n        ],\n        \"semantic_type\": \"\",\n        \"description\": \"\"\n      }\n    },\n    {\n      \"column\": \"Pulse\",\n      \"properties\": {\n        \"dtype\": \"number\",\n        \"std\": 0.4181261023952204,\n        \"min\": -0.05945162077545747,\n        \"max\": 1.0,\n        \"num_unique_values\": 5,\n        \"samples\": [\n          0.08349909382250129,\n          0.5311428473592867,\n          1.0\n        ],\n        \"semantic_type\": \"\",\n        \"description\": \"\"\n      }\n    },\n    {\n      \"column\": \"Maxpulse\",\n      \"properties\": {\n        \"dtype\": \"number\",\n        \"std\": 0.4535746381212391,\n        \"min\": -0.2500334695293992,\n        \"max\": 1.0,\n        \"num_unique_values\": 5,\n        \"samples\": [\n          0.1368865095321711,\n          0.3536460953256332,\n          0.2696723046280221\n        ],\n        \"semantic_type\": \"\",\n        \"description\": \"\"\n      }\n    },\n    {\n      \"column\": \"Calories\",\n      \"properties\": {\n        \"dtype\": \"number\",\n        \"std\": 0.35565885119294677,\n        \"min\": 0.03025196268782608,\n        \"max\": 1.0,\n        \"num_unique_values\": 5,\n        \"samples\": [\n          0.03025196268782608,\n          1.0,\n          0.5311428473592867\n        ],\n        \"semantic_type\": \"\",\n        \"description\": \"\"\n      }\n    }\n  ]\n}"
            }
          },
          "metadata": {},
          "execution_count": 48
        }
      ]
    },
    {
      "cell_type": "markdown",
      "source": [
        "# Pandas  Plotting\n",
        "\n",
        "## Plotting\n",
        "\n",
        "Pandas uses the plot() method to create diagrams.\n",
        "\n",
        "We can use Pyplot, a submodule of the Matplotlib library to visualize the diagram on the screen.\n",
        "\n",
        "## Scatter Plot\n",
        "\n",
        "Specify that you want a scatter plot with the kind argument:\n",
        "\n",
        "kind = 'scatter'\n",
        "\n",
        "A scatter plot needs an x- and a y-axis.\n",
        "\n",
        "## Histogram\n",
        "\n",
        "Use the kind argument to specify that you want a histogram:\n",
        "\n",
        "kind = 'hist'\n",
        "\n",
        "A histogram needs only one column.\n",
        "\n",
        "A histogram shows us the frequency of each interval, e.g. how many workouts lasted between 50 and 60 minutes?"
      ],
      "metadata": {
        "id": "6Bkr-kX0n_Nl"
      }
    },
    {
      "cell_type": "code",
      "source": [
        "import matplotlib.pyplot as plt"
      ],
      "metadata": {
        "id": "qLVC0RJboYwY"
      },
      "execution_count": 49,
      "outputs": []
    },
    {
      "cell_type": "code",
      "source": [
        "df.plot()\n",
        "\n",
        "plt.show()"
      ],
      "metadata": {
        "colab": {
          "base_uri": "https://localhost:8080/",
          "height": 430
        },
        "id": "o3-ujw_MofGq",
        "outputId": "aa2a2473-a0da-4ddb-fde1-928c5d5c8f2d"
      },
      "execution_count": 50,
      "outputs": [
        {
          "output_type": "display_data",
          "data": {
            "text/plain": [
              "<Figure size 640x480 with 1 Axes>"
            ],
            "image/png": "[encoded data removed]"
          },
          "metadata": {}
        }
      ]
    },
    {
      "cell_type": "code",
      "source": [
        "df.plot(kind = 'scatter', x = 'Duration', y = 'Calories')\n",
        "\n",
        "plt.show()"
      ],
      "metadata": {
        "colab": {
          "base_uri": "https://localhost:8080/",
          "height": 449
        },
        "id": "wQFssbm5oye2",
        "outputId": "bb76b401-9637-4674-cce6-05c10ad102dd"
      },
      "execution_count": 51,
      "outputs": [
        {
          "output_type": "display_data",
          "data": {
            "text/plain": [
              "<Figure size 640x480 with 1 Axes>"
            ],
            "image/png": "[encoded data removed]"
          },
          "metadata": {}
        }
      ]
    },
    {
      "cell_type": "code",
      "source": [
        "df[\"Duration\"].plot(kind = 'hist')\n"
      ],
      "metadata": {
        "colab": {
          "base_uri": "https://localhost:8080/",
          "height": 448
        },
        "id": "oIrxhax6pMM_",
        "outputId": "fb4caafd-3fdf-4dc5-e8db-ad7cfe8e7202"
      },
      "execution_count": 52,
      "outputs": [
        {
          "output_type": "execute_result",
          "data": {
            "text/plain": [
              "<Axes: ylabel='Frequency'>"
            ]
          },
          "metadata": {},
          "execution_count": 52
        },
        {
          "output_type": "display_data",
          "data": {
            "text/plain": [
              "<Figure size 640x480 with 1 Axes>"
            ],
            "image/png": "[encoded data removed]"
          },
          "metadata": {}
        }
      ]
    },
    {
      "cell_type": "markdown",
      "source": [
        "#Learning Outcomes\n",
        "\n",
        "Understand the basic structure of Pandas DataFrames and Series.\n",
        "\n",
        "Load and manipulate data from various sources.\n",
        "\n",
        "Clean and preprocess data effectively.\n",
        "\n",
        "Perform data analysis and aggregation.\n",
        "\n",
        "Handle missing data appropriately.\n",
        "\n",
        "Create data visualizations.\n",
        "\n",
        "Work with time series data.\n",
        "\n",
        "Merge and join datasets.\n",
        "\n",
        "Export data to different formats."
      ],
      "metadata": {
        "id": "MW5jvueVwTal"
      }
    },
    {
      "cell_type": "markdown",
      "source": [
        "# Pandas - DataFrame Reference\n",
        "\n",
        "All properties and methods of the DataFrame object, with explanations and examples:\n",
        "\n"
      ],
      "metadata": {
        "id": "27BysiGsxhOG"
      }
    },
    {
      "cell_type": "markdown",
      "source": [
        "| Property/Method | Description |  \n",
        "|-----------------|-------------|  \n",
        "| abs() | Return a DataFrame with the absolute value of each value | <br>  \n",
        "| add() | Adds the values of a DataFrame with the specified value(s) | <br>  \n",
        "| add_prefix() | Prefix all labels | <br>  \n",
        "| add_suffix() | Suffix all labels | <br>  \n",
        "| agg() | Apply a function or a function name to one of the axis of the DataFrame | <br>  \n",
        "| aggregate() | Apply a function or a function name to one of the axis of the DataFrame | <br>  \n",
        "| align() | Aligns two DataFrames with a specified join method | <br>  \n",
        "| all() | Return True if all values in the DataFrame are True, otherwise False | <br>  \n",
        "| any() | Returns True if any of the values in the DataFrame are True, otherwise False | <br>  \n",
        "| append() | Append new columns | <br>  \n",
        "| applymap() | Execute a function for each element in the DataFrame | <br>  \n",
        "| apply() | Apply a function to one of the axis of the DataFrame | <br>  \n",
        "| assign() | Assign new columns | <br>  \n",
        "| astype() | Convert the DataFrame into a specified dtype | <br>  \n",
        "| at | Get or set the value of the item with the specified label | <br>  \n",
        "| axes | Returns the labels of the rows and the columns of the DataFrame | <br>  \n",
        "| bfill() | Replaces NULL values with the value from the next row | <br>  \n",
        "| bool() | Returns the Boolean value of the DataFrame | <br>  \n",
        "| columns | Returns the column labels of the DataFrame | <br>  \n",
        "| combine() | Compare the values in two DataFrames, and let a function decide which values to keep | <br>  \n",
        "| combine_first() | Compare two DataFrames, fill NULL in first with values from second | <br>  \n",
        "| compare() | Compare two DataFrames and return the differences | <br>  \n",
        "| convert_dtypes() | Converts the columns in the DataFrame into new dtypes | <br>  \n",
        "| corr() | Find the correlation (relationship) between each column | <br>  \n",
        "| count() | Returns the number of not empty cells for each column/row | <br>  \n",
        "| cov() | Find the covariance of the columns | <br>  \n",
        "| copy() | Returns a copy of the DataFrame | <br>  \n",
        "| cummax() | Calculate the cumulative maximum values of the DataFrame | <br>  \n",
        "| cummin() | Calculate the cumulative minimum values of the DataFrame | <br>  \n",
        "| cumprod() | Calculate the cumulative product over the DataFrame | <br>  \n",
        "| cumsum() | Calculate the cumulative sum over the DataFrame | <br>  \n",
        "| describe() | Returns a description summary for each column in the DataFrame | <br>  \n",
        "| diff() | Calculate the difference between a value and the previous row’s value | <br>  \n",
        "| div() | Divides the values of a DataFrame with the specified value(s) | <br>  \n",
        "| dot() | Multiplies DataFrame with another array-like object and sums result | <br>  \n",
        "| drop() | Drops the specified rows/columns from the DataFrame | <br>  \n",
        "| drop_duplicates() | Drops duplicate values from the DataFrame | <br>  \n",
        "| droplevel() | Drops the specified index/column(s) | <br>  \n",
        "| dropna() | Drops all rows that contain NULL values | <br>  \n",
        "| dtypes | Returns the dtypes of the columns | <br>  \n",
        "| duplicated() | Returns True for duplicated rows, otherwise False | <br>  \n",
        "| empty | Returns True if the DataFrame is empty, otherwise False | <br>  \n",
        "| eq() | Returns True for values equal to specified value(s) | <br>  \n",
        "| equals() | Returns True if two DataFrames are equal | <br>  \n",
        "| eval | Evaluate a specified string | <br>  \n",
        "| explode() | Converts each element into a row | <br>  \n",
        "| ffill() | Replaces NULL values with the previous row value | <br>  \n",
        "| fillna() | Replaces NULL values with the specified value | <br>  \n",
        "| filter() | Filter the DataFrame according to the specified filter | <br>  \n",
        "| first() | Returns the first rows of a specified date selection | <br>  \n",
        "| floordiv() | Floor division with specified value(s) | <br>  \n",
        "| ge() | Returns True for values ≥ specified value(s) | <br>  \n",
        "| get() | Returns the item of the specified key | <br>  \n",
        "| groupby() | Groups the rows/columns into specified groups | <br>  \n",
        "| gt() | Returns True for values > specified value(s) | <br>  \n",
        "| head() | Returns the first 5 (or n) rows | <br>  \n",
        "| iat | Get or set value at a specific position | <br>  \n",
        "| idxmax() | Returns the label of the max value in the axis | <br>  \n",
        "| idxmin() | Returns the label of the min value in the axis | <br>  \n",
        "| iloc | Get or set values by integer positions | <br>  \n",
        "| index | Returns the row labels | <br>  \n",
        "| infer_objects() | Change the dtype of columns | <br>  \n",
        "| info() | Prints info about the DataFrame | <br>  \n",
        "| insert() | Insert a column | <br>  \n",
        "| interpolate() | Replace NaN with interpolated values | <br>  \n",
        "| isin() | Check if each element is in specified values | <br>  \n",
        "| isna() | Finds NaN values | <br>  \n",
        "| isnull() | Finds NULL values | <br>  \n",
        "| items() | Iterate over columns | <br>  \n",
        "| iteritems() | Iterate over columns | <br>  \n",
        "| iterrows() | Iterate over rows | <br>  \n",
        "| itertuples() | Iterate over rows as named tuples | <br>  \n",
        "| join() | Join columns from another DataFrame | <br>  \n",
        "| last() | Returns last rows of specified date selection | <br>  \n",
        "| le() | Returns True for values ≤ specified value(s) | <br>  \n",
        "| loc | Get or set values by label | <br>  \n",
        "| lt() | Returns True for values < specified value(s) | <br>  \n",
        "| keys() | Returns axis keys | <br>  \n",
        "| kurtosis() | Returns kurtosis of values | <br>  \n",
        "| mask() | Replace values where condition is True | <br>  \n",
        "| max() | Return max value | <br>  \n",
        "| mean() | Return mean value | <br>  \n",
        "| median() | Return median value | <br>  \n",
        "| melt() | Reshape DataFrame from wide to long | <br>  \n",
        "| memory_usage() | Returns memory usage per column | <br>  \n",
        "| merge() | Merge DataFrames | <br>  \n",
        "| min() | Return min value | <br>  \n",
        "| mod() | Modulus (remainder) | <br>  \n",
        "| mode() | Returns mode values | <br>  \n",
        "| mul() | Multiply with specified value(s) | <br>  \n",
        "| ndim | Number of dimensions | <br>  \n",
        "| ne() | Returns True for values not equal | <br>  \n",
        "| nlargest() | Return n largest rows | <br>  \n",
        "| notna() | Finds values that are not NaN | <br>  \n",
        "| notnull() | Finds values that are not NULL | <br>  \n",
        "| nsmallest() | Return n smallest rows | <br>  \n",
        "| nunique() | Number of unique values | <br>  \n",
        "| pct_change() | Percentage change from previous row | <br>  \n",
        "| pipe() | Apply a function | <br>  \n",
        "| pivot() | Reshape the DataFrame | <br>  \n",
        "| pivot_table() | Create pivot table | <br>  \n",
        "| pop() | Remove element | <br>  \n",
        "| pow() | Raise values to power of another | <br>  \n",
        "| prod() | Product of values | <br>  \n",
        "| product() | Product of values | <br>  \n",
        "| quantile() | Return quantile values | <br>  \n",
        "| query() | Query with expression | <br>  \n",
        "| radd() | Reverse add | <br>  \n",
        "| rdiv() | Reverse divide | <br>  \n",
        "| reindex() | Change labels | <br>  \n",
        "| reindex_like() | Conform to another DataFrame’s index/columns | <br>  \n",
        "| rename() | Rename axis labels | <br>  \n",
        "| rename_axis() | Rename the name of the axis | <br>  \n",
        "| reorder_levels() | Reorder index levels | <br>  \n",
        "| replace() | Replace values | <br>  \n",
        "| reset_index() | Reset the index | <br>  \n",
        "| rfloordiv() | Reverse floor division | <br>  \n",
        "| rmod() | Reverse modulus | <br>  \n",
        "| rmul() | Reverse multiply | <br>  \n",
        "| round() | Round values | <br>  \n",
        "| rpow() | Reverse power | <br>  \n",
        "| rsub() | Reverse subtract | <br>  \n",
        "| rtruediv() | Reverse divide | <br>  \n",
        "| sample() | Random sample of rows | <br>  \n",
        "| sem() | Standard error of mean | <br>  \n",
        "| select_dtypes() | Return columns of specified dtypes | <br>  \n",
        "| shape | Rows × columns | <br>  \n",
        "| set_axis() | Set axis labels | <br>  \n",
        "| set_flags() | Return DataFrame with flags set | <br>  \n",
        "| set_index() | Set index | <br>  \n",
        "| size | Number of elements | <br>  \n",
        "| skew() | Skewness of values | <br>  \n",
        "| sort_index() | Sort by index labels | <br>  \n",
        "| sort_values() | Sort by values | <br>  \n",
        "| squeeze() | Convert single-column DataFrame to Series | <br>  \n",
        "| stack() | Pivot from wide to long | <br>  \n",
        "| std() | Standard deviation | <br>  \n",
        "| sum() | Sum of values | <br>  \n",
        "| sub() | Subtract values | <br>  \n",
        "| swaplevel() | Swap index levels | <br>  \n",
        "| T | Transpose rows and columns | <br>  \n",
        "| tail() | Return last rows | <br>  \n",
        "| take() | Return elements at positions | <br>  \n",
        "| to_xarray() | Convert to xarray | <br>  \n",
        "| transform() | Apply function elementwise | <br>  \n",
        "| transpose() | Transpose rows and columns | <br>  \n",
        "| truediv() | True division | <br>  \n",
        "| truncate() | Remove outside values | <br>  \n",
        "| update() | Update DataFrame with another | <br>  \n",
        "| value_counts() | Count unique rows | <br>  \n",
        "| values | Return as NumPy array | <br>  \n",
        "| var() | Variance of values | <br>  \n",
        "| where() | Replace values where condition is False | <br>  \n",
        "| xs() | Return cross-section | <br>  \n",
        "| __iter__() | Return iterator | <br>  \n"
      ],
      "metadata": {
        "id": "vR3_oHoBx9PL"
      }
    },
    {
      "cell_type": "code",
      "source": [],
      "metadata": {
        "id": "stRHuK6rqRZw"
      },
      "execution_count": 52,
      "outputs": []
    }
  ]
}